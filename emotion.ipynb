{
 "cells": [
  {
   "cell_type": "code",
   "execution_count": 3,
   "metadata": {},
   "outputs": [],
   "source": [
    "import os\n",
    "\n",
    "# pip install charset-normalizer==2.1.0\n",
    "from fer import FER\n",
    "import matplotlib.pyplot as plt \n",
    "import matplotlib.patches as patches\n",
    "import pandas as pd\n",
    "from exif import Image as exifImage\n",
    "from pillow_heif import register_heif_opener\n",
    "from matplotlib.pyplot import figure\n",
    "import numpy as np\n",
    "import seaborn as sns\n",
    "from PIL import Image\n",
    "from PIL.ImageOps import exif_transpose\n",
    "\n",
    "register_heif_opener()\n",
    "\n",
    "OVERWRITE_FILE = False"
   ]
  },
  {
   "cell_type": "code",
   "execution_count": 4,
   "metadata": {},
   "outputs": [],
   "source": [
    "data_dir = './Data'\n",
    "image_dir = os.path.join(data_dir, 'rawfaces', 'myface')\n",
    "faces = os.listdir(image_dir)\n",
    "detector = FER(mtcnn=True)\n",
    "\n",
    "if OVERWRITE_FILE:\n",
    "    with open(f'{data_dir}/raw_emotion_data.csv', 'w') as f:\n",
    "        emotions = ['angry', 'disgust', 'fear', 'happy', 'sad', 'surprise', 'neutral']\n",
    "        f.write(','.join(['id', 'filename', 'date_created', 'box_x', 'box_y', 'box_width', 'box_height', *emotions]) + '\\n')\n"
   ]
  },
  {
   "cell_type": "code",
   "execution_count": 3,
   "metadata": {},
   "outputs": [],
   "source": [
    "def draw_image(img=None, image_path=None, box=None, emotions=None, crop=False, border=False, output_data_dir=None, output_filename=None, show=True):\n",
    "    \"\"\"\n",
    "    Usage:\n",
    "    row = emotion_data.iloc[0]\n",
    "    draw_image(row.filename, row[2:6])\n",
    "    \"\"\"\n",
    "    if img is None:\n",
    "        img = plt.imread(image_path)\n",
    "\n",
    "    _, ax = plt.subplots(1)\n",
    "    im = plt.imshow(img)\n",
    "\n",
    "    ax.xaxis.set_visible(False)\n",
    "    ax.yaxis.set_visible(False)\n",
    "    ax.spines['right'].set_visible(False)\n",
    "    ax.spines['left'].set_visible(False)\n",
    "    ax.spines['top'].set_visible(False)\n",
    "    ax.spines['bottom'].set_visible(False)\n",
    "\n",
    "    if box is not None:\n",
    "        x0, x1 = box[0], box[0] + box[2]\n",
    "        y0, y1 = box[1], box[1] + box[3]\n",
    "\n",
    "        # im.axes.add_patch(plt.Rectangle((x0, y0), x1 - x0, y1 - y0, fill=False, edgecolor='red', linewidth=2))\n",
    "        ax = plt.gca()\n",
    "\n",
    "        y_size, x_size = im.get_size()\n",
    "\n",
    "        if crop:\n",
    "            x_border = int(x_size * 0.02) if border else 0\n",
    "            y_border = int(y_size * 0.02) if border else 0\n",
    "\n",
    "            ax.set_xlim([max(0, x0 - x_border), min(x_size, x1 + x_border)])\n",
    "            ax.set_ylim([min(y_size,y1 + y_border), max(0, y0 - y_border)])\n",
    "\n",
    "        if emotions is not None:\n",
    "            emotion_annotion_y = 0.9\n",
    "            for emotion, score in emotions.items():\n",
    "                plt.annotate(f'{emotion}: {score:.2f}', xy=(0.1, emotion_annotion_y), xycoords='axes fraction', textcoords='axes fraction', ha='left', va='top', fontsize=12)\n",
    "                emotion_annotion_y -= 0.1\n",
    "\n",
    "    if output_data_dir:\n",
    "        plt.savefig(os.path.join(output_data_dir, output_filename), dpi=300, bbox_inches='tight', pad_inches=0)\n",
    "\n",
    "    if show:\n",
    "        plt.show()\n"
   ]
  },
  {
   "cell_type": "code",
   "execution_count": null,
   "outputs": [],
   "source": [
    "%%capture\n",
    "\n",
    "emotion_data = pd.read_csv(f'{data_dir}/raw_emotion_data.csv')\n",
    "existing_files = set(emotion_data.filename)\n",
    "\n",
    "i = len(emotion_data) + 1\n",
    "for image_name in faces:\n",
    "    if image_name in existing_files:\n",
    "        continue\n",
    "\n",
    "    img_path = os.path.join(image_dir, image_name)\n",
    "\n",
    "    try:\n",
    "        img_metadata = exifImage(img_path)\n",
    "        date_taken = img_metadata.get('datetime_original')\n",
    "    except:\n",
    "        date_taken = 'None'\n",
    "\n",
    "    try:\n",
    "        img = np.asarray(exif_transpose(Image.open(img_path)))\n",
    "        image_faces = detector.detect_emotions(img)\n",
    "    except:\n",
    "        continue\n",
    "\n",
    "    with open(f'{data_dir}/raw_emotion_data.csv', 'a') as f:\n",
    "        for face in image_faces:\n",
    "            box = face['box']\n",
    "            image_area = box[2] * box[3]\n",
    "            if image_area < 10000:\n",
    "                continue\n",
    "            row = [i, image_name, date_taken, *box, *face['emotions'].values()]\n",
    "            draw_image(img, box=box, crop=True, border=False, output_data_dir='./Data/croppedfaces', output_filename=str(i))\n",
    "            f.write(','.join([str(x) for x in row]) + '\\n')\n",
    "            i += 1\n"
   ],
   "metadata": {
    "collapsed": false
   }
  },
  {
   "cell_type": "code",
   "execution_count": null,
   "outputs": [],
   "source": [
    "raw_emotion_data = pd.read_csv(f'{data_dir}/raw_emotion_data.csv')\n",
    "cropped_faces_dir = os.path.join(data_dir, 'croppedfaces')\n",
    "filtered_faces = os.listdir(cropped_faces_dir)\n",
    "filtered_indices = [int(filename.split('.')[0]) for filename in filtered_faces]\n",
    "filtered_emotion_data = raw_emotion_data[raw_emotion_data.id.isin(filtered_indices)]\n",
    "\n",
    "filenames_to_be_adjusted = ['IMG_5203.JPG', 'IMG_5209.JPG', 'IMG_5223.JPG', 'IMG_5203.JPG', 'IMG_5232 (2).JPG', 'IMG_5240.JPG', 'IMG_5249.JPG']\n",
    "filtered_emotion_data.date_created[filtered_emotion_data.filename.isin(filenames_to_be_adjusted)] = filtered_emotion_data.date_created[filtered_emotion_data.filename.isin(filenames_to_be_adjusted)].replace('2014:', '2018:', regex=True)\n",
    "\n",
    "filtered_emotion_data.date_created = filtered_emotion_data.date_created.replace('-', ':', regex=True)\n",
    "filtered_emotion_data.date_created = pd.to_datetime(filtered_emotion_data.date_created, format=\"%Y:%m:%d %H:%M:%S\", errors='coerce')\n",
    "filtered_emotion_data = filtered_emotion_data.dropna()\n",
    "filtered_emotion_data = filtered_emotion_data.sort_values(by='date_created')\n",
    "\n",
    "filtered_emotion_data.to_csv(os.path.join(data_dir, 'filtered_emotion_data.csv'), index=False)"
   ],
   "metadata": {
    "collapsed": false
   }
  },
  {
   "cell_type": "code",
   "execution_count": null,
   "outputs": [],
   "source": [
    "%%capture\n",
    "import imageio\n",
    "from tqdm import tqdm\n",
    "import io\n",
    "\n",
    "gif_df = pd.read_csv(os.path.join(data_dir, 'filtered_emotion_data.csv'))\n",
    "\n",
    "with imageio.get_writer('timelapse3.gif', mode='I') as writer:\n",
    "    for row in tqdm(gif_df.iterrows()):\n",
    "        row = row[1]\n",
    "        file_no = row.id\n",
    "        year = row.date_created[:4]\n",
    "        if file_no == 2069:\n",
    "            continue\n",
    "        filename = str(file_no) + '.png'\n",
    "        image = imageio.v2.imread(os.path.join(cropped_faces_dir, filename))[::4, ::4, :]\n",
    "        fig, ax = plt.subplots(1)\n",
    "        ax.imshow(image)\n",
    "        ax.annotate(f'{year}', xy=(0.01, 0.01), xycoords='axes fraction', textcoords='axes fraction', ha='left', va='bottom', fontsize=20)\n",
    "        y_pos = 0.99\n",
    "        for emotion, score in row[7:].items():\n",
    "            ax.annotate(f'{emotion}: {int(score*100)}%', xy=(0.01, y_pos), xycoords='axes fraction', textcoords='axes fraction', ha='left', va='top', fontsize=12, color='red')\n",
    "            y_pos -= 0.05\n",
    "\n",
    "        ax.axis(\"off\")\n",
    "        ax.figure.canvas.draw()\n",
    "        buff = io.BytesIO()\n",
    "        plt.savefig(buff, format=\"png\", bbox_inches='tight', pad_inches=0)\n",
    "        buff.seek(0)\n",
    "        image = plt.imread(buff)\n",
    "        writer.append_data(image)\n",
    "        plt.close(fig)\n"
   ],
   "metadata": {
    "collapsed": false
   }
  },
  {
   "cell_type": "code",
   "execution_count": null,
   "outputs": [],
   "source": [
    "filtered_faces = os.listdir(os.path.join(data_dir, 'croppedfaces'))\n",
    "filtered_indices = [int(filename.split('.')[0]) for filename in filtered_faces]\n",
    "filtered_emotion_data = raw_emotion_data[raw_emotion_data.index.isin(filtered_indices)]\n",
    "filtered_emotion_data.to_csv(os.path.join(data_dir, 'emotion_data.csv'), index=False)"
   ],
   "metadata": {
    "collapsed": false
   }
  },
  {
   "cell_type": "code",
   "execution_count": 44,
   "outputs": [
    {
     "name": "stderr",
     "output_type": "stream",
     "text": [
      "WARNING:py.warnings:C:\\Users\\joshi\\AppData\\Local\\Temp\\ipykernel_11472\\587338585.py:14: FutureWarning:\n",
      "\n",
      "The default value of numeric_only in DataFrameGroupBy.mean is deprecated. In a future version, numeric_only will default to False. Either specify numeric_only or select only columns which should be valid for the function.\n",
      "\n",
      "\n"
     ]
    },
    {
     "data": {
      "text/plain": "<Figure size 640x480 with 1 Axes>",
      "image/png": "[encoded data removed]"
     },
     "metadata": {},
     "output_type": "display_data"
    }
   ],
   "source": [
    "emotion_data = pd.read_csv(f'{data_dir}/filtered_emotion_data.csv')\n",
    "\n",
    "emotion_data.date_created = emotion_data.date_created.replace('-', ':', regex=True)\n",
    "emotion_data.date_created = pd.to_datetime(emotion_data.date_created, format=\"%Y:%m:%d %H:%M:%S\", errors='coerce')\n",
    "emotion_data = emotion_data.dropna()\n",
    "emotion_data = emotion_data.sort_values(by='date_created')\n",
    "\n",
    "emotion_data['dominant_emotion'] = emotion_data[\n",
    "    ['angry', 'disgust', 'fear', 'happy', 'sad', 'surprise', 'neutral']].idxmax(axis=1)\n",
    "emotion_data['year'] = emotion_data.date_created.dt.year\n",
    "emotion_data['time'] = emotion_data.date_created.dt.strftime('%b %Y')\n",
    "emotion_data['day'] = emotion_data.date_created.dt.strftime('%y %j')\n",
    "\n",
    "emotion_data = emotion_data.groupby('day').mean()\n",
    "\n",
    "emotions = ['angry', 'happy', 'sad']\n",
    "colours = {'red': '#b34b42', 'green': '#42b34b', 'blue': '#4b42b3'}\n",
    "\n",
    "figure(num=None, facecolor='w', edgecolor='k')\n",
    "\n",
    "ax = sns.lineplot(x='year',\n",
    "                  y='value',\n",
    "                  hue='variable',\n",
    "                  data=pd.melt(emotion_data.query('year > 2013'), ['year'], value_vars=['happy', 'sad', 'angry']),\n",
    "                  sort=False,\n",
    "                  palette=colours.values(),\n",
    "                  err_style='band',\n",
    "                  err_kws={'alpha': 0.2})\n",
    "\n",
    "ax.set(xlabel='',\n",
    "       ylabel='Average expression intensity',\n",
    "       title='Fig 1: Average daily expression intensity per year')\n",
    "\n",
    "\n",
    "plt.legend(title='')\n",
    "plt.savefig('Output/emotions_over_time.png', dpi=300)\n",
    "plt.show()\n",
    "\n"
   ],
   "metadata": {
    "collapsed": false
   }
  },
  {
   "cell_type": "code",
   "execution_count": 45,
   "outputs": [
    {
     "data": {
      "text/plain": "<Figure size 1440x480 with 0 Axes>"
     },
     "metadata": {},
     "output_type": "display_data"
    },
    {
     "data": {
      "text/plain": "<Figure size 640x480 with 1 Axes>",
      "image/png": "[encoded data removed]"
     },
     "metadata": {},
     "output_type": "display_data"
    }
   ],
   "source": [
    "emotion_data = pd.read_csv(f'{data_dir}/filtered_emotion_data.csv')\n",
    "emotion_data.date_created = emotion_data.date_created.replace('-', ':', regex=True)\n",
    "emotion_data.date_created = pd.to_datetime(emotion_data.date_created, format=\"%Y:%m:%d %H:%M:%S\", errors='coerce')\n",
    "emotion_data = emotion_data.dropna()\n",
    "emotion_data = emotion_data.sort_values(by='date_created')\n",
    "emotion_data['dominant_emotion'] = emotion_data[\n",
    "    ['angry', 'disgust', 'fear', 'happy', 'sad', 'surprise', 'neutral']].idxmax(axis=1)\n",
    "emotion_data['year'] = emotion_data.date_created.dt.year\n",
    "emotion_data['time'] = emotion_data.date_created.dt.strftime('%b %Y')\n",
    "emotion_data['day'] = emotion_data.date_created.dt.strftime('%y %j')\n",
    "\n",
    "sns.set(style='white')\n",
    "\n",
    "by_year = emotion_data.groupby(['year']).size()\n",
    "dominant_emotions = emotion_data.groupby(['year', 'dominant_emotion']).size() / by_year\n",
    "dominant_emotions = dominant_emotions.reset_index()\n",
    "dominant_emotions.replace({'dominant_emotion': {'angry': 'Angry', 'disgust': None, 'fear': None, 'happy': 'Happy', 'sad': 'Sad', 'surprise': None, 'neutral': None}}, inplace=True)\n",
    "dominant_emotions = dominant_emotions.groupby(['year', 'dominant_emotion']).sum().reset_index()\n",
    "dominant_emotions = dominant_emotions.query('year > 2016')\n",
    "\n",
    "dominant_emotions = dominant_emotions.pivot(index='year', columns='dominant_emotion', values=0).reset_index()\n",
    "\n",
    "dominant_emotions.columns = pd.CategoricalIndex(dominant_emotions.columns.values,\n",
    "                                 ordered=True,\n",
    "                                 categories=['year', 'Angry', 'Happy', 'Sad'])\n",
    "\n",
    "# Sort the columns (axis=1) by the new categorical ordering\n",
    "dominant_emotions = dominant_emotions.sort_index(axis=1)\n",
    "\n",
    "\n",
    "figure(num=None, figsize=(12, 4), dpi=120, facecolor='w', edgecolor='k')\n",
    "ax = dominant_emotions.set_index('year').plot(kind='bar',\n",
    "                                              stacked=False,\n",
    "                                              color=['#d47f77', '#77d47f', '#7f77d4', '#dbdbdb'],\n",
    "                                              rot=0,\n",
    "                                              xlabel='',\n",
    "                                              ylabel='Proportion of images',\n",
    "                                              title='Fig 2: Proportion of dominant expression in image over time',\n",
    "                                              ylim=(0, 0.55))\n",
    "\n",
    "handles, labels = ax.get_legend_handles_labels()\n",
    "handles = [handles[1], handles[2], handles[0]]\n",
    "labels = [labels[1], labels[2], labels[0]]\n",
    "ax.legend(handles, labels)\n",
    "\n",
    "x_pos = [0.1, 0.255, 0.43, 0.60, 0.69, 0.91]\n",
    "y_pos = [0.26, 0.64, 0.91, 0.74, 0.95, 0.7]\n",
    "for i, N in enumerate(by_year[by_year.index > 2016]):\n",
    "    ax.annotate(f'N={N}', xy=(x_pos[i], y_pos[i]), xycoords='axes fraction', textcoords='axes fraction', ha='center', va='center', fontsize=12)\n",
    "\n",
    "plt.savefig('Output/dominant_emotion_over_time.png', dpi=300)\n"
   ],
   "metadata": {
    "collapsed": false
   }
  },
  {
   "cell_type": "code",
   "execution_count": 46,
   "outputs": [
    {
     "name": "stderr",
     "output_type": "stream",
     "text": [
      "WARNING:py.warnings:C:\\Users\\joshi\\AppData\\Local\\Temp\\ipykernel_11472\\798014441.py:11: FutureWarning:\n",
      "\n",
      "The default value of numeric_only in DataFrameGroupBy.mean is deprecated. In a future version, numeric_only will default to False. Either specify numeric_only or select only columns which should be valid for the function.\n",
      "\n",
      "\n"
     ]
    },
    {
     "data": {
      "application/vnd.plotly.v1+json": {
       "data": [
        {
         "fill": "toself",
         "name": "Not me",
         "r": [
          0.83,
          0.25,
          0.96,
          0.69,
          0.83,
          0.42
         ],
         "theta": [
          "angry",
          "fear",
          "happy",
          "sad",
          "surprise",
          "neutral"
         ],
         "type": "scatterpolar"
        },
        {
         "fill": "toself",
         "name": "Me",
         "r": [
          0.4002631578947369,
          0.47923076923076924,
          0.731487603305785,
          0.5110958904109589,
          0.6052941176470589,
          0.6446446700507614
         ],
         "theta": [
          "angry",
          "fear",
          "happy",
          "sad",
          "surprise",
          "neutral"
         ],
         "type": "scatterpolar"
        }
       ],
       "layout": {
        "template": {
         "data": {
          "barpolar": [
           {
            "marker": {
             "line": {
              "color": "white",
              "width": 0.5
             },
             "pattern": {
              "fillmode": "overlay",
              "size": 10,
              "solidity": 0.2
             }
            },
            "type": "barpolar"
           }
          ],
          "bar": [
           {
            "error_x": {
             "color": "#2a3f5f"
            },
            "error_y": {
             "color": "#2a3f5f"
            },
            "marker": {
             "line": {
              "color": "white",
              "width": 0.5
             },
             "pattern": {
              "fillmode": "overlay",
              "size": 10,
              "solidity": 0.2
             }
            },
            "type": "bar"
           }
          ],
          "carpet": [
           {
            "aaxis": {
             "endlinecolor": "#2a3f5f",
             "gridcolor": "#C8D4E3",
             "linecolor": "#C8D4E3",
             "minorgridcolor": "#C8D4E3",
             "startlinecolor": "#2a3f5f"
            },
            "baxis": {
             "endlinecolor": "#2a3f5f",
             "gridcolor": "#C8D4E3",
             "linecolor": "#C8D4E3",
             "minorgridcolor": "#C8D4E3",
             "startlinecolor": "#2a3f5f"
            },
            "type": "carpet"
           }
          ],
          "choropleth": [
           {
            "colorbar": {
             "outlinewidth": 0,
             "ticks": ""
            },
            "type": "choropleth"
           }
          ],
          "contourcarpet": [
           {
            "colorbar": {
             "outlinewidth": 0,
             "ticks": ""
            },
            "type": "contourcarpet"
           }
          ],
          "contour": [
           {
            "colorbar": {
             "outlinewidth": 0,
             "ticks": ""
            },
            "colorscale": [
             [
              0.0,
              "#0d0887"
             ],
             [
              0.1111111111111111,
              "#46039f"
             ],
             [
              0.2222222222222222,
              "#7201a8"
             ],
             [
              0.3333333333333333,
              "#9c179e"
             ],
             [
              0.4444444444444444,
              "#bd3786"
             ],
             [
              0.5555555555555556,
              "#d8576b"
             ],
             [
              0.6666666666666666,
              "#ed7953"
             ],
             [
              0.7777777777777778,
              "#fb9f3a"
             ],
             [
              0.8888888888888888,
              "#fdca26"
             ],
             [
              1.0,
              "#f0f921"
             ]
            ],
            "type": "contour"
           }
          ],
          "heatmapgl": [
           {
            "colorbar": {
             "outlinewidth": 0,
             "ticks": ""
            },
            "colorscale": [
             [
              0.0,
              "#0d0887"
             ],
             [
              0.1111111111111111,
              "#46039f"
             ],
             [
              0.2222222222222222,
              "#7201a8"
             ],
             [
              0.3333333333333333,
              "#9c179e"
             ],
             [
              0.4444444444444444,
              "#bd3786"
             ],
             [
              0.5555555555555556,
              "#d8576b"
             ],
             [
              0.6666666666666666,
              "#ed7953"
             ],
             [
              0.7777777777777778,
              "#fb9f3a"
             ],
             [
              0.8888888888888888,
              "#fdca26"
             ],
             [
              1.0,
              "#f0f921"
             ]
            ],
            "type": "heatmapgl"
           }
          ],
          "heatmap": [
           {
            "colorbar": {
             "outlinewidth": 0,
             "ticks": ""
            },
            "colorscale": [
             [
              0.0,
              "#0d0887"
             ],
             [
              0.1111111111111111,
              "#46039f"
             ],
             [
              0.2222222222222222,
              "#7201a8"
             ],
             [
              0.3333333333333333,
              "#9c179e"
             ],
             [
              0.4444444444444444,
              "#bd3786"
             ],
             [
              0.5555555555555556,
              "#d8576b"
             ],
             [
              0.6666666666666666,
              "#ed7953"
             ],
             [
              0.7777777777777778,
              "#fb9f3a"
             ],
             [
              0.8888888888888888,
              "#fdca26"
             ],
             [
              1.0,
              "#f0f921"
             ]
            ],
            "type": "heatmap"
           }
          ],
          "histogram2dcontour": [
           {
            "colorbar": {
             "outlinewidth": 0,
             "ticks": ""
            },
            "colorscale": [
             [
              0.0,
              "#0d0887"
             ],
             [
              0.1111111111111111,
              "#46039f"
             ],
             [
              0.2222222222222222,
              "#7201a8"
             ],
             [
              0.3333333333333333,
              "#9c179e"
             ],
             [
              0.4444444444444444,
              "#bd3786"
             ],
             [
              0.5555555555555556,
              "#d8576b"
             ],
             [
              0.6666666666666666,
              "#ed7953"
             ],
             [
              0.7777777777777778,
              "#fb9f3a"
             ],
             [
              0.8888888888888888,
              "#fdca26"
             ],
             [
              1.0,
              "#f0f921"
             ]
            ],
            "type": "histogram2dcontour"
           }
          ],
          "histogram2d": [
           {
            "colorbar": {
             "outlinewidth": 0,
             "ticks": ""
            },
            "colorscale": [
             [
              0.0,
              "#0d0887"
             ],
             [
              0.1111111111111111,
              "#46039f"
             ],
             [
              0.2222222222222222,
              "#7201a8"
             ],
             [
              0.3333333333333333,
              "#9c179e"
             ],
             [
              0.4444444444444444,
              "#bd3786"
             ],
             [
              0.5555555555555556,
              "#d8576b"
             ],
             [
              0.6666666666666666,
              "#ed7953"
             ],
             [
              0.7777777777777778,
              "#fb9f3a"
             ],
             [
              0.8888888888888888,
              "#fdca26"
             ],
             [
              1.0,
              "#f0f921"
             ]
            ],
            "type": "histogram2d"
           }
          ],
          "histogram": [
           {
            "marker": {
             "pattern": {
              "fillmode": "overlay",
              "size": 10,
              "solidity": 0.2
             }
            },
            "type": "histogram"
           }
          ],
          "mesh3d": [
           {
            "colorbar": {
             "outlinewidth": 0,
             "ticks": ""
            },
            "type": "mesh3d"
           }
          ],
          "parcoords": [
           {
            "line": {
             "colorbar": {
              "outlinewidth": 0,
              "ticks": ""
             }
            },
            "type": "parcoords"
           }
          ],
          "pie": [
           {
            "automargin": true,
            "type": "pie"
           }
          ],
          "scatter3d": [
           {
            "line": {
             "colorbar": {
              "outlinewidth": 0,
              "ticks": ""
             }
            },
            "marker": {
             "colorbar": {
              "outlinewidth": 0,
              "ticks": ""
             }
            },
            "type": "scatter3d"
           }
          ],
          "scattercarpet": [
           {
            "marker": {
             "colorbar": {
              "outlinewidth": 0,
              "ticks": ""
             }
            },
            "type": "scattercarpet"
           }
          ],
          "scattergeo": [
           {
            "marker": {
             "colorbar": {
              "outlinewidth": 0,
              "ticks": ""
             }
            },
            "type": "scattergeo"
           }
          ],
          "scattergl": [
           {
            "marker": {
             "colorbar": {
              "outlinewidth": 0,
              "ticks": ""
             }
            },
            "type": "scattergl"
           }
          ],
          "scattermapbox": [
           {
            "marker": {
             "colorbar": {
              "outlinewidth": 0,
              "ticks": ""
             }
            },
            "type": "scattermapbox"
           }
          ],
          "scatterpolargl": [
           {
            "marker": {
             "colorbar": {
              "outlinewidth": 0,
              "ticks": ""
             }
            },
            "type": "scatterpolargl"
           }
          ],
          "scatterpolar": [
           {
            "marker": {
             "colorbar": {
              "outlinewidth": 0,
              "ticks": ""
             }
            },
            "type": "scatterpolar"
           }
          ],
          "scatter": [
           {
            "fillpattern": {
             "fillmode": "overlay",
             "size": 10,
             "solidity": 0.2
            },
            "type": "scatter"
           }
          ],
          "scatterternary": [
           {
            "marker": {
             "colorbar": {
              "outlinewidth": 0,
              "ticks": ""
             }
            },
            "type": "scatterternary"
           }
          ],
          "surface": [
           {
            "colorbar": {
             "outlinewidth": 0,
             "ticks": ""
            },
            "colorscale": [
             [
              0.0,
              "#0d0887"
             ],
             [
              0.1111111111111111,
              "#46039f"
             ],
             [
              0.2222222222222222,
              "#7201a8"
             ],
             [
              0.3333333333333333,
              "#9c179e"
             ],
             [
              0.4444444444444444,
              "#bd3786"
             ],
             [
              0.5555555555555556,
              "#d8576b"
             ],
             [
              0.6666666666666666,
              "#ed7953"
             ],
             [
              0.7777777777777778,
              "#fb9f3a"
             ],
             [
              0.8888888888888888,
              "#fdca26"
             ],
             [
              1.0,
              "#f0f921"
             ]
            ],
            "type": "surface"
           }
          ],
          "table": [
           {
            "cells": {
             "fill": {
              "color": "#EBF0F8"
             },
             "line": {
              "color": "white"
             }
            },
            "header": {
             "fill": {
              "color": "#C8D4E3"
             },
             "line": {
              "color": "white"
             }
            },
            "type": "table"
           }
          ]
         },
         "layout": {
          "annotationdefaults": {
           "arrowcolor": "#2a3f5f",
           "arrowhead": 0,
           "arrowwidth": 1
          },
          "autotypenumbers": "strict",
          "coloraxis": {
           "colorbar": {
            "outlinewidth": 0,
            "ticks": ""
           }
          },
          "colorscale": {
           "diverging": [
            [
             0,
             "#8e0152"
            ],
            [
             0.1,
             "#c51b7d"
            ],
            [
             0.2,
             "#de77ae"
            ],
            [
             0.3,
             "#f1b6da"
            ],
            [
             0.4,
             "#fde0ef"
            ],
            [
             0.5,
             "#f7f7f7"
            ],
            [
             0.6,
             "#e6f5d0"
            ],
            [
             0.7,
             "#b8e186"
            ],
            [
             0.8,
             "#7fbc41"
            ],
            [
             0.9,
             "#4d9221"
            ],
            [
             1,
             "#276419"
            ]
           ],
           "sequential": [
            [
             0.0,
             "#0d0887"
            ],
            [
             0.1111111111111111,
             "#46039f"
            ],
            [
             0.2222222222222222,
             "#7201a8"
            ],
            [
             0.3333333333333333,
             "#9c179e"
            ],
            [
             0.4444444444444444,
             "#bd3786"
            ],
            [
             0.5555555555555556,
             "#d8576b"
            ],
            [
             0.6666666666666666,
             "#ed7953"
            ],
            [
             0.7777777777777778,
             "#fb9f3a"
            ],
            [
             0.8888888888888888,
             "#fdca26"
            ],
            [
             1.0,
             "#f0f921"
            ]
           ],
           "sequentialminus": [
            [
             0.0,
             "#0d0887"
            ],
            [
             0.1111111111111111,
             "#46039f"
            ],
            [
             0.2222222222222222,
             "#7201a8"
            ],
            [
             0.3333333333333333,
             "#9c179e"
            ],
            [
             0.4444444444444444,
             "#bd3786"
            ],
            [
             0.5555555555555556,
             "#d8576b"
            ],
            [
             0.6666666666666666,
             "#ed7953"
            ],
            [
             0.7777777777777778,
             "#fb9f3a"
            ],
            [
             0.8888888888888888,
             "#fdca26"
            ],
            [
             1.0,
             "#f0f921"
            ]
           ]
          },
          "colorway": [
           "#636efa",
           "#EF553B",
           "#00cc96",
           "#ab63fa",
           "#FFA15A",
           "#19d3f3",
           "#FF6692",
           "#B6E880",
           "#FF97FF",
           "#FECB52"
          ],
          "font": {
           "color": "#2a3f5f"
          },
          "geo": {
           "bgcolor": "white",
           "lakecolor": "white",
           "landcolor": "white",
           "showlakes": true,
           "showland": true,
           "subunitcolor": "#C8D4E3"
          },
          "hoverlabel": {
           "align": "left"
          },
          "hovermode": "closest",
          "mapbox": {
           "style": "light"
          },
          "paper_bgcolor": "white",
          "plot_bgcolor": "white",
          "polar": {
           "angularaxis": {
            "gridcolor": "#EBF0F8",
            "linecolor": "#EBF0F8",
            "ticks": ""
           },
           "bgcolor": "white",
           "radialaxis": {
            "gridcolor": "#EBF0F8",
            "linecolor": "#EBF0F8",
            "ticks": ""
           }
          },
          "scene": {
           "xaxis": {
            "backgroundcolor": "white",
            "gridcolor": "#DFE8F3",
            "gridwidth": 2,
            "linecolor": "#EBF0F8",
            "showbackground": true,
            "ticks": "",
            "zerolinecolor": "#EBF0F8"
           },
           "yaxis": {
            "backgroundcolor": "white",
            "gridcolor": "#DFE8F3",
            "gridwidth": 2,
            "linecolor": "#EBF0F8",
            "showbackground": true,
            "ticks": "",
            "zerolinecolor": "#EBF0F8"
           },
           "zaxis": {
            "backgroundcolor": "white",
            "gridcolor": "#DFE8F3",
            "gridwidth": 2,
            "linecolor": "#EBF0F8",
            "showbackground": true,
            "ticks": "",
            "zerolinecolor": "#EBF0F8"
           }
          },
          "shapedefaults": {
           "line": {
            "color": "#2a3f5f"
           }
          },
          "ternary": {
           "aaxis": {
            "gridcolor": "#DFE8F3",
            "linecolor": "#A2B1C6",
            "ticks": ""
           },
           "baxis": {
            "gridcolor": "#DFE8F3",
            "linecolor": "#A2B1C6",
            "ticks": ""
           },
           "bgcolor": "white",
           "caxis": {
            "gridcolor": "#DFE8F3",
            "linecolor": "#A2B1C6",
            "ticks": ""
           }
          },
          "title": {
           "x": 0.05
          },
          "xaxis": {
           "automargin": true,
           "gridcolor": "#EBF0F8",
           "linecolor": "#EBF0F8",
           "ticks": "",
           "title": {
            "standoff": 15
           },
           "zerolinecolor": "#EBF0F8",
           "zerolinewidth": 2
          },
          "yaxis": {
           "automargin": true,
           "gridcolor": "#EBF0F8",
           "linecolor": "#EBF0F8",
           "ticks": "",
           "title": {
            "standoff": 15
           },
           "zerolinecolor": "#EBF0F8",
           "zerolinewidth": 2
          }
         }
        },
        "title": {
         "text": "Fig 3: Mean (dominant) expression intensity"
        },
        "polar": {
         "radialaxis": {
          "visible": true,
          "range": [
           0,
           1
          ]
         }
        },
        "showlegend": true,
        "width": 400,
        "height": 400
       },
       "config": {
        "plotlyServerURL": "https://plot.ly"
       }
      },
      "text/html": "<div>                            <div id=\"a3178d33-2b92-4760-8041-1d8c1a6b2f0b\" class=\"plotly-graph-div\" style=\"height:400px; width:400px;\"></div>            <script type=\"text/javascript\">                require([\"plotly\"], function(Plotly) {                    window.PLOTLYENV=window.PLOTLYENV || {};                                    if (document.getElementById(\"a3178d33-2b92-4760-8041-1d8c1a6b2f0b\")) {                    Plotly.newPlot(                        \"a3178d33-2b92-4760-8041-1d8c1a6b2f0b\",                        [{\"fill\":\"toself\",\"name\":\"Not me\",\"r\":[0.83,0.25,0.96,0.69,0.83,0.42],\"theta\":[\"angry\",\"fear\",\"happy\",\"sad\",\"surprise\",\"neutral\"],\"type\":\"scatterpolar\"},{\"fill\":\"toself\",\"name\":\"Me\",\"r\":[0.4002631578947369,0.47923076923076924,0.731487603305785,0.5110958904109589,0.6052941176470589,0.6446446700507614],\"theta\":[\"angry\",\"fear\",\"happy\",\"sad\",\"surprise\",\"neutral\"],\"type\":\"scatterpolar\"}],                        {\"template\":{\"data\":{\"barpolar\":[{\"marker\":{\"line\":{\"color\":\"white\",\"width\":0.5},\"pattern\":{\"fillmode\":\"overlay\",\"size\":10,\"solidity\":0.2}},\"type\":\"barpolar\"}],\"bar\":[{\"error_x\":{\"color\":\"#2a3f5f\"},\"error_y\":{\"color\":\"#2a3f5f\"},\"marker\":{\"line\":{\"color\":\"white\",\"width\":0.5},\"pattern\":{\"fillmode\":\"overlay\",\"size\":10,\"solidity\":0.2}},\"type\":\"bar\"}],\"carpet\":[{\"aaxis\":{\"endlinecolor\":\"#2a3f5f\",\"gridcolor\":\"#C8D4E3\",\"linecolor\":\"#C8D4E3\",\"minorgridcolor\":\"#C8D4E3\",\"startlinecolor\":\"#2a3f5f\"},\"baxis\":{\"endlinecolor\":\"#2a3f5f\",\"gridcolor\":\"#C8D4E3\",\"linecolor\":\"#C8D4E3\",\"minorgridcolor\":\"#C8D4E3\",\"startlinecolor\":\"#2a3f5f\"},\"type\":\"carpet\"}],\"choropleth\":[{\"colorbar\":{\"outlinewidth\":0,\"ticks\":\"\"},\"type\":\"choropleth\"}],\"contourcarpet\":[{\"colorbar\":{\"outlinewidth\":0,\"ticks\":\"\"},\"type\":\"contourcarpet\"}],\"contour\":[{\"colorbar\":{\"outlinewidth\":0,\"ticks\":\"\"},\"colorscale\":[[0.0,\"#0d0887\"],[0.1111111111111111,\"#46039f\"],[0.2222222222222222,\"#7201a8\"],[0.3333333333333333,\"#9c179e\"],[0.4444444444444444,\"#bd3786\"],[0.5555555555555556,\"#d8576b\"],[0.6666666666666666,\"#ed7953\"],[0.7777777777777778,\"#fb9f3a\"],[0.8888888888888888,\"#fdca26\"],[1.0,\"#f0f921\"]],\"type\":\"contour\"}],\"heatmapgl\":[{\"colorbar\":{\"outlinewidth\":0,\"ticks\":\"\"},\"colorscale\":[[0.0,\"#0d0887\"],[0.1111111111111111,\"#46039f\"],[0.2222222222222222,\"#7201a8\"],[0.3333333333333333,\"#9c179e\"],[0.4444444444444444,\"#bd3786\"],[0.5555555555555556,\"#d8576b\"],[0.6666666666666666,\"#ed7953\"],[0.7777777777777778,\"#fb9f3a\"],[0.8888888888888888,\"#fdca26\"],[1.0,\"#f0f921\"]],\"type\":\"heatmapgl\"}],\"heatmap\":[{\"colorbar\":{\"outlinewidth\":0,\"ticks\":\"\"},\"colorscale\":[[0.0,\"#0d0887\"],[0.1111111111111111,\"#46039f\"],[0.2222222222222222,\"#7201a8\"],[0.3333333333333333,\"#9c179e\"],[0.4444444444444444,\"#bd3786\"],[0.5555555555555556,\"#d8576b\"],[0.6666666666666666,\"#ed7953\"],[0.7777777777777778,\"#fb9f3a\"],[0.8888888888888888,\"#fdca26\"],[1.0,\"#f0f921\"]],\"type\":\"heatmap\"}],\"histogram2dcontour\":[{\"colorbar\":{\"outlinewidth\":0,\"ticks\":\"\"},\"colorscale\":[[0.0,\"#0d0887\"],[0.1111111111111111,\"#46039f\"],[0.2222222222222222,\"#7201a8\"],[0.3333333333333333,\"#9c179e\"],[0.4444444444444444,\"#bd3786\"],[0.5555555555555556,\"#d8576b\"],[0.6666666666666666,\"#ed7953\"],[0.7777777777777778,\"#fb9f3a\"],[0.8888888888888888,\"#fdca26\"],[1.0,\"#f0f921\"]],\"type\":\"histogram2dcontour\"}],\"histogram2d\":[{\"colorbar\":{\"outlinewidth\":0,\"ticks\":\"\"},\"colorscale\":[[0.0,\"#0d0887\"],[0.1111111111111111,\"#46039f\"],[0.2222222222222222,\"#7201a8\"],[0.3333333333333333,\"#9c179e\"],[0.4444444444444444,\"#bd3786\"],[0.5555555555555556,\"#d8576b\"],[0.6666666666666666,\"#ed7953\"],[0.7777777777777778,\"#fb9f3a\"],[0.8888888888888888,\"#fdca26\"],[1.0,\"#f0f921\"]],\"type\":\"histogram2d\"}],\"histogram\":[{\"marker\":{\"pattern\":{\"fillmode\":\"overlay\",\"size\":10,\"solidity\":0.2}},\"type\":\"histogram\"}],\"mesh3d\":[{\"colorbar\":{\"outlinewidth\":0,\"ticks\":\"\"},\"type\":\"mesh3d\"}],\"parcoords\":[{\"line\":{\"colorbar\":{\"outlinewidth\":0,\"ticks\":\"\"}},\"type\":\"parcoords\"}],\"pie\":[{\"automargin\":true,\"type\":\"pie\"}],\"scatter3d\":[{\"line\":{\"colorbar\":{\"outlinewidth\":0,\"ticks\":\"\"}},\"marker\":{\"colorbar\":{\"outlinewidth\":0,\"ticks\":\"\"}},\"type\":\"scatter3d\"}],\"scattercarpet\":[{\"marker\":{\"colorbar\":{\"outlinewidth\":0,\"ticks\":\"\"}},\"type\":\"scattercarpet\"}],\"scattergeo\":[{\"marker\":{\"colorbar\":{\"outlinewidth\":0,\"ticks\":\"\"}},\"type\":\"scattergeo\"}],\"scattergl\":[{\"marker\":{\"colorbar\":{\"outlinewidth\":0,\"ticks\":\"\"}},\"type\":\"scattergl\"}],\"scattermapbox\":[{\"marker\":{\"colorbar\":{\"outlinewidth\":0,\"ticks\":\"\"}},\"type\":\"scattermapbox\"}],\"scatterpolargl\":[{\"marker\":{\"colorbar\":{\"outlinewidth\":0,\"ticks\":\"\"}},\"type\":\"scatterpolargl\"}],\"scatterpolar\":[{\"marker\":{\"colorbar\":{\"outlinewidth\":0,\"ticks\":\"\"}},\"type\":\"scatterpolar\"}],\"scatter\":[{\"fillpattern\":{\"fillmode\":\"overlay\",\"size\":10,\"solidity\":0.2},\"type\":\"scatter\"}],\"scatterternary\":[{\"marker\":{\"colorbar\":{\"outlinewidth\":0,\"ticks\":\"\"}},\"type\":\"scatterternary\"}],\"surface\":[{\"colorbar\":{\"outlinewidth\":0,\"ticks\":\"\"},\"colorscale\":[[0.0,\"#0d0887\"],[0.1111111111111111,\"#46039f\"],[0.2222222222222222,\"#7201a8\"],[0.3333333333333333,\"#9c179e\"],[0.4444444444444444,\"#bd3786\"],[0.5555555555555556,\"#d8576b\"],[0.6666666666666666,\"#ed7953\"],[0.7777777777777778,\"#fb9f3a\"],[0.8888888888888888,\"#fdca26\"],[1.0,\"#f0f921\"]],\"type\":\"surface\"}],\"table\":[{\"cells\":{\"fill\":{\"color\":\"#EBF0F8\"},\"line\":{\"color\":\"white\"}},\"header\":{\"fill\":{\"color\":\"#C8D4E3\"},\"line\":{\"color\":\"white\"}},\"type\":\"table\"}]},\"layout\":{\"annotationdefaults\":{\"arrowcolor\":\"#2a3f5f\",\"arrowhead\":0,\"arrowwidth\":1},\"autotypenumbers\":\"strict\",\"coloraxis\":{\"colorbar\":{\"outlinewidth\":0,\"ticks\":\"\"}},\"colorscale\":{\"diverging\":[[0,\"#8e0152\"],[0.1,\"#c51b7d\"],[0.2,\"#de77ae\"],[0.3,\"#f1b6da\"],[0.4,\"#fde0ef\"],[0.5,\"#f7f7f7\"],[0.6,\"#e6f5d0\"],[0.7,\"#b8e186\"],[0.8,\"#7fbc41\"],[0.9,\"#4d9221\"],[1,\"#276419\"]],\"sequential\":[[0.0,\"#0d0887\"],[0.1111111111111111,\"#46039f\"],[0.2222222222222222,\"#7201a8\"],[0.3333333333333333,\"#9c179e\"],[0.4444444444444444,\"#bd3786\"],[0.5555555555555556,\"#d8576b\"],[0.6666666666666666,\"#ed7953\"],[0.7777777777777778,\"#fb9f3a\"],[0.8888888888888888,\"#fdca26\"],[1.0,\"#f0f921\"]],\"sequentialminus\":[[0.0,\"#0d0887\"],[0.1111111111111111,\"#46039f\"],[0.2222222222222222,\"#7201a8\"],[0.3333333333333333,\"#9c179e\"],[0.4444444444444444,\"#bd3786\"],[0.5555555555555556,\"#d8576b\"],[0.6666666666666666,\"#ed7953\"],[0.7777777777777778,\"#fb9f3a\"],[0.8888888888888888,\"#fdca26\"],[1.0,\"#f0f921\"]]},\"colorway\":[\"#636efa\",\"#EF553B\",\"#00cc96\",\"#ab63fa\",\"#FFA15A\",\"#19d3f3\",\"#FF6692\",\"#B6E880\",\"#FF97FF\",\"#FECB52\"],\"font\":{\"color\":\"#2a3f5f\"},\"geo\":{\"bgcolor\":\"white\",\"lakecolor\":\"white\",\"landcolor\":\"white\",\"showlakes\":true,\"showland\":true,\"subunitcolor\":\"#C8D4E3\"},\"hoverlabel\":{\"align\":\"left\"},\"hovermode\":\"closest\",\"mapbox\":{\"style\":\"light\"},\"paper_bgcolor\":\"white\",\"plot_bgcolor\":\"white\",\"polar\":{\"angularaxis\":{\"gridcolor\":\"#EBF0F8\",\"linecolor\":\"#EBF0F8\",\"ticks\":\"\"},\"bgcolor\":\"white\",\"radialaxis\":{\"gridcolor\":\"#EBF0F8\",\"linecolor\":\"#EBF0F8\",\"ticks\":\"\"}},\"scene\":{\"xaxis\":{\"backgroundcolor\":\"white\",\"gridcolor\":\"#DFE8F3\",\"gridwidth\":2,\"linecolor\":\"#EBF0F8\",\"showbackground\":true,\"ticks\":\"\",\"zerolinecolor\":\"#EBF0F8\"},\"yaxis\":{\"backgroundcolor\":\"white\",\"gridcolor\":\"#DFE8F3\",\"gridwidth\":2,\"linecolor\":\"#EBF0F8\",\"showbackground\":true,\"ticks\":\"\",\"zerolinecolor\":\"#EBF0F8\"},\"zaxis\":{\"backgroundcolor\":\"white\",\"gridcolor\":\"#DFE8F3\",\"gridwidth\":2,\"linecolor\":\"#EBF0F8\",\"showbackground\":true,\"ticks\":\"\",\"zerolinecolor\":\"#EBF0F8\"}},\"shapedefaults\":{\"line\":{\"color\":\"#2a3f5f\"}},\"ternary\":{\"aaxis\":{\"gridcolor\":\"#DFE8F3\",\"linecolor\":\"#A2B1C6\",\"ticks\":\"\"},\"baxis\":{\"gridcolor\":\"#DFE8F3\",\"linecolor\":\"#A2B1C6\",\"ticks\":\"\"},\"bgcolor\":\"white\",\"caxis\":{\"gridcolor\":\"#DFE8F3\",\"linecolor\":\"#A2B1C6\",\"ticks\":\"\"}},\"title\":{\"x\":0.05},\"xaxis\":{\"automargin\":true,\"gridcolor\":\"#EBF0F8\",\"linecolor\":\"#EBF0F8\",\"ticks\":\"\",\"title\":{\"standoff\":15},\"zerolinecolor\":\"#EBF0F8\",\"zerolinewidth\":2},\"yaxis\":{\"automargin\":true,\"gridcolor\":\"#EBF0F8\",\"linecolor\":\"#EBF0F8\",\"ticks\":\"\",\"title\":{\"standoff\":15},\"zerolinecolor\":\"#EBF0F8\",\"zerolinewidth\":2}}},\"title\":{\"text\":\"Fig 3: Mean (dominant) expression intensity\"},\"polar\":{\"radialaxis\":{\"visible\":true,\"range\":[0,1]}},\"showlegend\":true,\"width\":400,\"height\":400},                        {\"responsive\": true}                    ).then(function(){\n                            \nvar gd = document.getElementById('a3178d33-2b92-4760-8041-1d8c1a6b2f0b');\nvar x = new MutationObserver(function (mutations, observer) {{\n        var display = window.getComputedStyle(gd).display;\n        if (!display || display === 'none') {{\n            console.log([gd, 'removed!']);\n            Plotly.purge(gd);\n            observer.disconnect();\n        }}\n}});\n\n// Listen for the removal of the full notebook cells\nvar notebookContainer = gd.closest('#notebook-container');\nif (notebookContainer) {{\n    x.observe(notebookContainer, {childList: true});\n}}\n\n// Listen for the clearing of the current output cell\nvar outputEl = gd.closest('.output');\nif (outputEl) {{\n    x.observe(outputEl, {childList: true});\n}}\n\n                        })                };                });            </script>        </div>"
     },
     "metadata": {},
     "output_type": "display_data"
    }
   ],
   "source": [
    "import plotly.graph_objects as go\n",
    "\n",
    "filtered_emotion_data = pd.read_csv(f'{data_dir}/filtered_emotion_data.csv')\n",
    "other_emotion_data = pd.read_csv(f'{data_dir}/not_me_emotion_data.csv')\n",
    "\n",
    "emotions = ['angry', 'fear', 'happy', 'sad', 'surprise', 'neutral']\n",
    "filtered_emotion_data['dominant_emotion'] = filtered_emotion_data[emotions].idxmax(axis=1)\n",
    "other_emotion_data['dominant_emotion'] = other_emotion_data[emotions].idxmax(axis=1)\n",
    "\n",
    "# Compute the mean value for each emotion over the images where it is the dominant emotion\n",
    "filtered_emotion_data = filtered_emotion_data.groupby(['dominant_emotion']).mean().reset_index()\n",
    "\n",
    "d1, d2 = {}, {}\n",
    "for emotion in emotions:\n",
    "    value1 = filtered_emotion_data.loc[filtered_emotion_data['dominant_emotion'] == emotion, emotion]\n",
    "    value2 = other_emotion_data.loc[other_emotion_data['dominant_emotion'] == emotion, emotion]\n",
    "    d1[emotion] = value1.values[0]\n",
    "    d2[emotion] = value2.values[0]\n",
    "\n",
    "d1 = pd.DataFrame.from_dict(d1, orient='index', columns=['data'])['data']\n",
    "\n",
    "d2 = pd.DataFrame.from_dict(d2, orient='index', columns=['data'])['data']\n",
    "\n",
    "fig = go.Figure(layout=go.Layout(title=go.layout.Title(text=\"Fig 3: Mean (dominant) expression intensity\"), template='plotly_white'))\n",
    "\n",
    "fig.add_trace(go.Scatterpolar(\n",
    "    r=d2,\n",
    "    theta=emotions,\n",
    "    fill='toself',\n",
    "    name='Not me'\n",
    "))\n",
    "\n",
    "fig.add_trace(go.Scatterpolar(\n",
    "    r=d1,\n",
    "    theta=emotions,\n",
    "    fill='toself',\n",
    "    name='Me'\n",
    "))\n",
    "\n",
    "\n",
    "fig.update_layout(\n",
    "    polar=dict(\n",
    "        radialaxis=dict(\n",
    "            visible=True,\n",
    "            range=[0, 1]\n",
    "        )),\n",
    "    showlegend=True,\n",
    "    width=400,\n",
    "    height=400\n",
    ")\n",
    "\n",
    "fig.show()\n",
    "\n",
    "fig.write_image(\"Output/dominant_emotion_distribution.png\")\n"
   ],
   "metadata": {
    "collapsed": false
   }
  },
  {
   "cell_type": "code",
   "execution_count": null,
   "outputs": [],
   "source": [
    "all_emotion_data = pd.read_csv(f'{data_dir}/filtered_emotion_data.csv')\n",
    "\n",
    "emotions = ['angry', 'fear', 'happy', 'sad', 'surprise', 'neutral']\n",
    "for emotion in emotions:\n",
    "\n",
    "    row = all_emotion_data.sort_values(by=[emotion], ascending=False).head(10)\n",
    "    i = 0 if emotion != 'happy' else 2\n",
    "    image_path = f'{data_dir}/croppedfaces/{row.id.values[i]}.png'\n",
    "    draw_image(image_path=image_path, show=False)\n",
    "    ax = plt.gca()\n",
    "\n",
    "    year = row.date_created.values[i].split('-')[0]\n",
    "    ax.annotate(f'{year}', xy=(0.01, 0.01), xycoords='axes fraction', textcoords='axes fraction', ha='left', va='bottom', fontsize=22, color='red')\n",
    "\n",
    "    score = row[emotion].values[i]\n",
    "    ax.annotate(f'{emotion}: {int(score*100)}%', xy=(0.02, 0.98), xycoords='axes fraction', textcoords='axes fraction', ha='left', va='top', fontsize=18, color='red')\n",
    "    plt.savefig(f'Output/most_potent/{emotion}.png', dpi=300, bbox_inches='tight')\n",
    "    plt.show()\n",
    "\n"
   ],
   "metadata": {
    "collapsed": false
   }
  },
  {
   "cell_type": "code",
   "execution_count": null,
   "outputs": [],
   "source": [],
   "metadata": {
    "collapsed": false
   }
  }
 ],
 "metadata": {
  "kernelspec": {
   "display_name": "Python 3.9.16 ('emotions')",
   "language": "python",
   "name": "python3"
  },
  "language_info": {
   "codemirror_mode": {
    "name": "ipython",
    "version": 3
   },
   "file_extension": ".py",
   "mimetype": "text/x-python",
   "name": "python",
   "nbconvert_exporter": "python",
   "pygments_lexer": "ipython3",
   "version": "3.9.16"
  },
  "orig_nbformat": 4,
  "vscode": {
   "interpreter": {
    "hash": "fd5c9f33abec883b0c6256cdb3d857f24c5015119304e5ced3d3bc5e63aa8f59"
   }
  }
 },
 "nbformat": 4,
 "nbformat_minor": 2
}
